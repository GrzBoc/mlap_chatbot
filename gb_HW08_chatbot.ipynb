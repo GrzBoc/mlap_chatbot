{
 "cells": [
  {
   "cell_type": "markdown",
   "metadata": {
    "toc": true
   },
   "source": [
    "<h1>Table of Contents<span class=\"tocSkip\"></span></h1>\n",
    "<div class=\"toc\"><ul class=\"toc-item\"><li><span><a href=\"#Homework\" data-toc-modified-id=\"Homework-1\"><span class=\"toc-item-num\">1&nbsp;&nbsp;</span>Homework</a></span><ul class=\"toc-item\"><li><span><a href=\"#Intro\" data-toc-modified-id=\"Intro-1.1\"><span class=\"toc-item-num\">1.1&nbsp;&nbsp;</span>Intro</a></span></li><li><span><a href=\"#Instructions\" data-toc-modified-id=\"Instructions-1.2\"><span class=\"toc-item-num\">1.2&nbsp;&nbsp;</span>Instructions</a></span></li><li><span><a href=\"#Submission\" data-toc-modified-id=\"Submission-1.3\"><span class=\"toc-item-num\">1.3&nbsp;&nbsp;</span>Submission</a></span></li></ul></li><li><span><a href=\"#References\" data-toc-modified-id=\"References-2\"><span class=\"toc-item-num\">2&nbsp;&nbsp;</span>References</a></span><ul class=\"toc-item\"><li><span><a href=\"#Chatbot\" data-toc-modified-id=\"Chatbot-2.1\"><span class=\"toc-item-num\">2.1&nbsp;&nbsp;</span>Chatbot</a></span></li></ul></li></ul></div>"
   ]
  },
  {
   "cell_type": "markdown",
   "metadata": {},
   "source": [
    "# Homework"
   ]
  },
  {
   "cell_type": "markdown",
   "metadata": {},
   "source": [
    "## Intro"
   ]
  },
  {
   "cell_type": "markdown",
   "metadata": {},
   "source": [
    "Creating a support agent can bring down costs massively for a business. No need to hire an entire team when one well-trained agent can answer multiple requests simultaneously 24/7. This is a huge opportunity for disruption! In this homework assignment we're going to train a simple machine learning model for predicting helpdesk response time using BigQuery. Then we'll build a simple chatbot using Dialogflow and learn how to integrate the trained BigQuery ML model into the helpdesk chatbot. "
   ]
  },
  {
   "cell_type": "markdown",
   "metadata": {},
   "source": [
    "## Instructions"
   ]
  },
  {
   "cell_type": "markdown",
   "metadata": {},
   "source": [
    "Step 1 - Follow [this](https://codelabs.developers.google.com/codelabs/cloud-dialogflow-bqml/index.html?index=..%2F..cloudai#4) tutorial to create your first support helpdesk agent using Dialogflow and BigQuery. \n",
    "\n",
    "Step 2 - Generate a link for your web-hosted agent, see [this](https://cloud.google.com/dialogflow/docs/integrations/web-demo) tutorial for steps on how to do so."
   ]
  },
  {
   "cell_type": "markdown",
   "metadata": {},
   "source": [
    "## Submission"
   ]
  },
  {
   "cell_type": "markdown",
   "metadata": {},
   "source": [
    "Submit a link to your just your web-hosted agent to  gradedhomeworkassignments@gmail.com with \"Week 8\" as the title of your email. No need to submit the associated github repository. The deadline is 2 weeks from assignment."
   ]
  },
  {
   "cell_type": "markdown",
   "metadata": {},
   "source": [
    "# References"
   ]
  },
  {
   "cell_type": "markdown",
   "metadata": {},
   "source": [
    "Resources mentioned in the videos:\n",
    "\n",
    "BigQuery + Dialogflow tutorial: https://codelabs.developers.google.com/codelabs/cloud-dialogflow-bqml/index.html?index=..%2F..cloudai#0\n",
    "\n",
    "Not Mentioned but still useful - 3 examples of DialogFlow Marketing Chatbots\n",
    "\n",
    "1 DialogFlow Support bot for Telegram: https://github.com/eskelevir/support-bots \n",
    "\n",
    "2 Flutter DialogFlow example https://github.com/VictorRancesCode/flutter_dialogflow\n",
    "\n",
    "3 A really cool library for integrating DialogFlow with Flask https://github.com/treethought/flask-assistant \n",
    "\n",
    "Reading assignment\n",
    "\n",
    "1 Read this comprehensive tutorial on Dialogflow\n",
    "\n",
    "https://rominirani.com/hands-on-with-api-ai-google-assistant-writing-your-first-conversation-agent-a6a7dcdaba27 \n",
    "\n",
    "2 Read Chapters 3-6 of this book on Machine Learning for Marketers\n",
    "\n",
    "https://assets.ctfassets.net/j5zy0n17n2ql/2D4mX8PjV6iC6i8cIuSCwk/23a4ebb99a6e9d5a82b2f03e1262f39d/ml-whitepaper.pdf "
   ]
  },
  {
   "cell_type": "markdown",
   "metadata": {},
   "source": [
    "## Chatbot"
   ]
  },
  {
   "cell_type": "markdown",
   "metadata": {},
   "source": [
    "https://bot.dialogflow.com/72de42ef-ba45-4b91-8671-8057ccce54e9"
   ]
  },
  {
   "cell_type": "code",
   "execution_count": null,
   "metadata": {},
   "outputs": [],
   "source": []
  },
  {
   "cell_type": "code",
   "execution_count": null,
   "metadata": {},
   "outputs": [],
   "source": []
  }
 ],
 "metadata": {
  "kernelspec": {
   "display_name": "Python 3",
   "language": "python",
   "name": "python3"
  },
  "language_info": {
   "codemirror_mode": {
    "name": "ipython",
    "version": 3
   },
   "file_extension": ".py",
   "mimetype": "text/x-python",
   "name": "python",
   "nbconvert_exporter": "python",
   "pygments_lexer": "ipython3",
   "version": "3.7.2"
  },
  "toc": {
   "base_numbering": 1,
   "nav_menu": {},
   "number_sections": true,
   "sideBar": true,
   "skip_h1_title": false,
   "title_cell": "Table of Contents",
   "title_sidebar": "Contents",
   "toc_cell": true,
   "toc_position": {},
   "toc_section_display": true,
   "toc_window_display": true
  },
  "varInspector": {
   "cols": {
    "lenName": 16,
    "lenType": 16,
    "lenVar": 40
   },
   "kernels_config": {
    "python": {
     "delete_cmd_postfix": "",
     "delete_cmd_prefix": "del ",
     "library": "var_list.py",
     "varRefreshCmd": "print(var_dic_list())"
    },
    "r": {
     "delete_cmd_postfix": ") ",
     "delete_cmd_prefix": "rm(",
     "library": "var_list.r",
     "varRefreshCmd": "cat(var_dic_list()) "
    }
   },
   "types_to_exclude": [
    "module",
    "function",
    "builtin_function_or_method",
    "instance",
    "_Feature"
   ],
   "window_display": false
  }
 },
 "nbformat": 4,
 "nbformat_minor": 2
}
